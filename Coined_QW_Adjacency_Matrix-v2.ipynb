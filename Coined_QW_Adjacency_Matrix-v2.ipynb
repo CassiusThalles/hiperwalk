{
 "cells": [
  {
   "cell_type": "markdown",
   "metadata": {},
   "source": [
    "# Coined Model "
   ]
  },
  {
   "cell_type": "code",
   "execution_count": 3,
   "metadata": {},
   "outputs": [],
   "source": [
    "import math\n",
    "import numpy as np\n",
    "import scipy as sp\n",
    "import sympy as sy\n",
    "import networkx\n",
    "from numpy import linalg as LA\n",
    "from random import random,randint\n",
    "import cmath \n",
    "from neblina import *\n",
    "import scipy.special\n",
    "import time\n",
    "import sys\n",
    "\n",
    "from CoinedModel import *\n",
    "\n",
    "float_ = 2\n",
    "complex_ = 13\n",
    "init_engine(0)"
   ]
  },
  {
   "cell_type": "code",
   "execution_count": 4,
   "metadata": {},
   "outputs": [],
   "source": [
    "G = networkx.complete_graph(4)"
   ]
  },
  {
   "cell_type": "code",
   "execution_count": 5,
   "metadata": {},
   "outputs": [],
   "source": [
    "A = networkx.linalg.graphmatrix.adjacency_matrix(G) # Sparse matrix\n",
    "#n = A.shape[0]\n",
    "A = A.todense()\n",
    "#A"
   ]
  },
  {
   "cell_type": "code",
   "execution_count": 6,
   "metadata": {},
   "outputs": [
    {
     "name": "stderr",
     "output_type": "stream",
     "text": [
      "/usr/lib64/python3.6/site-packages/scipy/sparse/_index.py:84: SparseEfficiencyWarning: Changing the sparsity structure of a csr_matrix is expensive. lil_matrix is more efficient.\n",
      "  self._set_intXint(row, col, x.flat[0])\n"
     ]
    }
   ],
   "source": [
    "S = ShiftOperator(A)"
   ]
  },
  {
   "cell_type": "code",
   "execution_count": 7,
   "metadata": {},
   "outputs": [],
   "source": [
    "#S.todense()"
   ]
  },
  {
   "cell_type": "code",
   "execution_count": 8,
   "metadata": {},
   "outputs": [],
   "source": [
    "C = CoinOperator(A)\n",
    "#C.todense()"
   ]
  },
  {
   "cell_type": "code",
   "execution_count": 9,
   "metadata": {},
   "outputs": [],
   "source": [
    "psi0 = UniformInitialCondition(A)\n",
    "Uprime = EvolutionOperator_SearchCoinedModel(A)\n",
    "#Uprime"
   ]
  },
  {
   "cell_type": "code",
   "execution_count": 10,
   "metadata": {},
   "outputs": [
    {
     "name": "stdout",
     "output_type": "stream",
     "text": [
      "0.0004801750183105469\n"
     ]
    }
   ],
   "source": [
    "def vec_f_(V):\n",
    "#    printpsi0(\"test_vector_sparse_matrix_multiplication_complex\")\n",
    "    n = V.shape[0]\n",
    "    vec_f = vector_new(n, complex_)\n",
    "    for i in range(n):\n",
    "        vector_set(vec_f, i, V[i], 0)\n",
    "    return vec_f\n",
    "        \n",
    "def smat_f_(M):\n",
    "#    print(\"test_vector_sparse_matrix_multiplication_complex\")\n",
    "    n = M.shape[0]\n",
    "\n",
    "    smat_f = sparse_matrix_new(n, n, complex_)\n",
    "    \n",
    "    for i in range(0,n):\n",
    "        for j in range(0,n):\n",
    "            if M[i,j] != 0.:\n",
    "                sparse_matrix_set(smat_f, i, j, M[i,j], 0)\n",
    "\n",
    "#    sparse_matrix_pack(smat_f)\n",
    "    return smat_f\n",
    "\n",
    "start = time.time()\n",
    "vec_psi0 = vec_f_(psi0)\n",
    "#smat_S = smat_f_(S)\n",
    "#smat_C = smat_f_(C)\n",
    "smat_Uprime = smat_f_(Uprime)\n",
    "print(time.time() - start)"
   ]
  },
  {
   "cell_type": "code",
   "execution_count": 11,
   "metadata": {},
   "outputs": [],
   "source": [
    "def test_vector_sparse_matrix_multiplication_complex_S_C(vec_f,smat_f,smat_f2,N):\n",
    "#    print(\"test_vector_sparse_matrix_multiplication_complex\")\n",
    "    print(1)\n",
    "    \n",
    "    sparse_matrix_pack(smat_f)\n",
    "    sparse_matrix_pack(smat_f2)\n",
    "    \n",
    "    move_vector_device(vec_f)\n",
    "    move_sparse_matrix_device(smat_f)\n",
    "    move_sparse_matrix_device(smat_f2)\n",
    "\n",
    "    res = sparse_matvec_mul(vec_f, smat_f)\n",
    "    res = sparse_matvec_mul(res, smat_f2)\n",
    "    \n",
    "    for i in range(N-1):\n",
    "        res = sparse_matvec_mul(res, smat_f)\n",
    "        res = sparse_matvec_mul(res, smat_f2)\n",
    "    \n",
    "    print(5)\n",
    "\n",
    "    out = move_vector_host(res)\n",
    "    MV = np.matrix([vector_get(out, 2 * i) + vector_get(out, 2 * i + 1)*complex(0,1) for i in range(n) ]).T\n",
    "    \n",
    "    \n",
    "    return MV"
   ]
  },
  {
   "cell_type": "code",
   "execution_count": 12,
   "metadata": {},
   "outputs": [],
   "source": [
    "def test_vector_sparse_matrix_multiplication_complex_U(vec_f,smat_f,dim_U,N):\n",
    "#    print(\"test_vector_sparse_matrix_multiplication_complex\")\n",
    "    print(1)\n",
    "    \n",
    "    sparse_matrix_pack(smat_f)\n",
    "    \n",
    "    move_vector_device(vec_f)\n",
    "    move_sparse_matrix_device(smat_f)\n",
    "\n",
    "    res = sparse_matvec_mul(vec_f, smat_f)\n",
    "    \n",
    "    for i in range(N-1):\n",
    "        res = sparse_matvec_mul(res, smat_f)\n",
    "    \n",
    "    print(2)\n",
    "\n",
    "    out = move_vector_host(res)\n",
    "    MV = np.matrix([vector_get(out,2*i)+vector_get(out,2*i+1)*complex(0,1) for i in range(n)]).T\n",
    "        \n",
    "    return MV"
   ]
  },
  {
   "cell_type": "code",
   "execution_count": 17,
   "metadata": {},
   "outputs": [
    {
     "name": "stdout",
     "output_type": "stream",
     "text": [
      "1\n",
      "2\n",
      "0.0006461143493652344\n"
     ]
    }
   ],
   "source": [
    "N = 10\n",
    "n = Uprime.shape[0]\n",
    "start = time.time()\n",
    "parallel_Result = test_vector_sparse_matrix_multiplication_complex_U(vec_psi0,smat_Uprime,n,N)\n",
    "print(time.time() - start)"
   ]
  },
  {
   "cell_type": "code",
   "execution_count": null,
   "metadata": {},
   "outputs": [],
   "source": []
  },
  {
   "cell_type": "code",
   "execution_count": null,
   "metadata": {},
   "outputs": [],
   "source": []
  },
  {
   "cell_type": "code",
   "execution_count": 14,
   "metadata": {},
   "outputs": [
    {
     "name": "stdout",
     "output_type": "stream",
     "text": [
      "0.0001316070556640625\n"
     ]
    }
   ],
   "source": [
    "n = Uprime.shape[0]\n",
    "serial_Result = np.zeros((n,n))\n",
    "start = time.time()\n",
    "serial_Result = (Uprime**N)*psi0\n",
    "print(time.time() - start)"
   ]
  },
  {
   "cell_type": "code",
   "execution_count": 15,
   "metadata": {},
   "outputs": [
    {
     "name": "stdout",
     "output_type": "stream",
     "text": [
      "5.926969055564841e-16\n"
     ]
    }
   ],
   "source": [
    "print(LA.norm(serial_Result - parallel_Result))"
   ]
  },
  {
   "cell_type": "code",
   "execution_count": null,
   "metadata": {},
   "outputs": [],
   "source": []
  },
  {
   "cell_type": "code",
   "execution_count": null,
   "metadata": {},
   "outputs": [],
   "source": []
  },
  {
   "cell_type": "code",
   "execution_count": null,
   "metadata": {},
   "outputs": [],
   "source": []
  },
  {
   "cell_type": "code",
   "execution_count": 20,
   "metadata": {},
   "outputs": [],
   "source": [
    "stop_engine()"
   ]
  },
  {
   "cell_type": "code",
   "execution_count": null,
   "metadata": {},
   "outputs": [],
   "source": []
  }
 ],
 "metadata": {
  "kernelspec": {
   "display_name": "Python 3",
   "language": "python",
   "name": "python3"
  },
  "language_info": {
   "codemirror_mode": {
    "name": "ipython",
    "version": 3
   },
   "file_extension": ".py",
   "mimetype": "text/x-python",
   "name": "python",
   "nbconvert_exporter": "python",
   "pygments_lexer": "ipython3",
   "version": "3.6.12"
  }
 },
 "nbformat": 4,
 "nbformat_minor": 5
}
