{
 "cells": [
  {
   "cell_type": "markdown",
   "id": "da77be50",
   "metadata": {},
   "source": [
    "# Coined Model "
   ]
  },
  {
   "cell_type": "code",
   "execution_count": 1,
   "id": "171a626f",
   "metadata": {},
   "outputs": [
    {
     "name": "stdout",
     "output_type": "stream",
     "text": [
      "test_vector_sparse_matrix_multiplication_complex\n",
      "engine 0\n",
      "0 0.0 54.0i\n",
      "1 0.0 54.0i\n",
      "2 0.0 54.0i\n",
      "3 0.0 54.0i\n",
      "4 0.0 0.0i\n",
      "5 0.0 0.0i\n",
      "6 0.0 0.0i\n",
      "7 0.0 0.0i\n",
      "8 0.0 0.0i\n",
      "9 0.0 0.0i\n",
      "1\n"
     ]
    }
   ],
   "source": [
    "import math\n",
    "import numpy as np\n",
    "import scipy as sp\n",
    "import sympy as sy\n",
    "import networkx\n",
    "from numpy import linalg as LA\n",
    "from random import random,randint\n",
    "import cmath \n",
    "from neblina import *\n",
    "from test import *\n",
    "import scipy.special\n",
    "import time\n",
    "\n",
    "from CoinedModel import *\n",
    "\n",
    "init_engine(0)"
   ]
  },
  {
   "cell_type": "code",
   "execution_count": 2,
   "id": "d9370d67",
   "metadata": {},
   "outputs": [],
   "source": [
    "G = networkx.complete_graph(4)"
   ]
  },
  {
   "cell_type": "code",
   "execution_count": 3,
   "id": "85da7011",
   "metadata": {},
   "outputs": [],
   "source": [
    "A = networkx.linalg.graphmatrix.adjacency_matrix(G) # Sparse matrix\n",
    "#n = A.shape[0]\n",
    "A = A.todense()\n",
    "#A"
   ]
  },
  {
   "cell_type": "code",
   "execution_count": 4,
   "id": "b84156d0",
   "metadata": {},
   "outputs": [
    {
     "name": "stderr",
     "output_type": "stream",
     "text": [
      "/home/portugal/.local/lib/python3.8/site-packages/scipy/sparse/_index.py:82: SparseEfficiencyWarning: Changing the sparsity structure of a csr_matrix is expensive. lil_matrix is more efficient.\n",
      "  self._set_intXint(row, col, x.flat[0])\n"
     ]
    }
   ],
   "source": [
    "S = ShiftOperator(A)"
   ]
  },
  {
   "cell_type": "code",
   "execution_count": 5,
   "id": "a9e96f8f",
   "metadata": {},
   "outputs": [],
   "source": [
    "#S.todense()"
   ]
  },
  {
   "cell_type": "code",
   "execution_count": 6,
   "id": "d3c5cead",
   "metadata": {},
   "outputs": [],
   "source": [
    "C = CoinOperator(A)\n",
    "#C.todense()"
   ]
  },
  {
   "cell_type": "code",
   "execution_count": 7,
   "id": "d3a86f43",
   "metadata": {},
   "outputs": [],
   "source": [
    "psi0 = UniformInitialCondition(A)\n",
    "Uprime = EvolutionOperator_SearchCoinedModel(A)\n",
    "#Uprime"
   ]
  },
  {
   "cell_type": "code",
   "execution_count": 8,
   "id": "faaf8ca6",
   "metadata": {},
   "outputs": [
    {
     "name": "stdout",
     "output_type": "stream",
     "text": [
      "0.0001380443572998047\n"
     ]
    }
   ],
   "source": [
    "def vec_f_(V):\n",
    "#    printpsi0(\"test_vector_sparse_matrix_multiplication_complex\")\n",
    "    n = V.shape[0]\n",
    "    vec_f = vector_new(n, complex_)\n",
    "    for i in range(n):\n",
    "        vector_set(vec_f, i, V[i], 0)\n",
    "    return vec_f\n",
    "        \n",
    "def smat_f_(M):\n",
    "#    print(\"test_vector_sparse_matrix_multiplication_complex\")\n",
    "    n = M.shape[0]\n",
    "\n",
    "    smat_f = sparse_matrix_new(n, n, complex_)\n",
    "    \n",
    "    for i in range(0,n):\n",
    "        for j in range(0,n):\n",
    "            if M[i,j] != 0.:\n",
    "                sparse_matrix_set(smat_f, i, j, M[i,j], 0)\n",
    "\n",
    "#    sparse_matrix_pack(smat_f)\n",
    "    return smat_f\n",
    "\n",
    "start = time.time()\n",
    "vec_psi0 = vec_f_(psi0)\n",
    "#smat_S = smat_f_(S)\n",
    "#smat_C = smat_f_(C)\n",
    "smat_Uprime = smat_f_(Uprime)\n",
    "print(time.time() - start)"
   ]
  },
  {
   "cell_type": "code",
   "execution_count": 9,
   "id": "31f6ca85",
   "metadata": {},
   "outputs": [],
   "source": [
    "def test_vector_sparse_matrix_multiplication_complex_S_C(vec_f,smat_f,smat_f2,N):\n",
    "#    print(\"test_vector_sparse_matrix_multiplication_complex\")\n",
    "    print(1)\n",
    "    \n",
    "    sparse_matrix_pack(smat_f)\n",
    "    sparse_matrix_pack(smat_f2)\n",
    "    \n",
    "    move_vector_device(vec_f)\n",
    "    move_sparse_matrix_device(smat_f)\n",
    "    move_sparse_matrix_device(smat_f2)\n",
    "\n",
    "    res = sparse_matvec_mul(vec_f, smat_f)\n",
    "    res = sparse_matvec_mul(res, smat_f2)\n",
    "    \n",
    "    for i in range(N-1):\n",
    "        res = sparse_matvec_mul(res, smat_f)\n",
    "        res = sparse_matvec_mul(res, smat_f2)\n",
    "    \n",
    "    print(5)\n",
    "\n",
    "    out = move_vector_host(res)\n",
    "    MV = np.matrix([vector_get(out, 2 * i) + vector_get(out, 2 * i + 1)*complex(0,1) for i in range(n) ]).T\n",
    "    \n",
    "    \n",
    "    return MV"
   ]
  },
  {
   "cell_type": "code",
   "execution_count": 10,
   "id": "5fd0a7cc",
   "metadata": {},
   "outputs": [],
   "source": [
    "def test_vector_sparse_matrix_multiplication_complex_U(vec_f,smat_f,dim_U,N):\n",
    "#    print(\"test_vector_sparse_matrix_multiplication_complex\")\n",
    "    print(1)\n",
    "    \n",
    "    sparse_matrix_pack(smat_f)\n",
    "    \n",
    "    move_vector_device(vec_f)\n",
    "    move_sparse_matrix_device(smat_f)\n",
    "\n",
    "    res = sparse_matvec_mul(vec_f, smat_f)\n",
    "    \n",
    "    for i in range(N-1):\n",
    "        res = sparse_matvec_mul(res, smat_f)\n",
    "    \n",
    "    print(2)\n",
    "\n",
    "    out = move_vector_host(res)\n",
    "    MV = np.matrix([vector_get(out,2*i)+vector_get(out,2*i+1)*complex(0,1) for i in range(n)]).T\n",
    "        \n",
    "    return MV"
   ]
  },
  {
   "cell_type": "code",
   "execution_count": null,
   "id": "33b7633e",
   "metadata": {},
   "outputs": [],
   "source": [
    "N = 10\n",
    "n = Uprime.shape[0]\n",
    "start = time.time()\n",
    "parallel_Result = test_vector_sparse_matrix_multiplication_complex_U(vec_psi0,smat_Uprime,n,N)\n",
    "print(time.time() - start)"
   ]
  },
  {
   "cell_type": "code",
   "execution_count": null,
   "id": "23fbf7b4",
   "metadata": {},
   "outputs": [],
   "source": []
  },
  {
   "cell_type": "code",
   "execution_count": null,
   "id": "b491cc91",
   "metadata": {},
   "outputs": [],
   "source": []
  },
  {
   "cell_type": "code",
   "execution_count": 12,
   "id": "c35377fd",
   "metadata": {},
   "outputs": [
    {
     "name": "stdout",
     "output_type": "stream",
     "text": [
      "0.00013184547424316406\n"
     ]
    }
   ],
   "source": [
    "n = Uprime.shape[0]\n",
    "serial_Result = np.zeros((n,n))\n",
    "start = time.time()\n",
    "serial_Result = (Uprime**N)*psi0\n",
    "print(time.time() - start)"
   ]
  },
  {
   "cell_type": "code",
   "execution_count": 13,
   "id": "03c701b3",
   "metadata": {},
   "outputs": [
    {
     "name": "stdout",
     "output_type": "stream",
     "text": [
      "4.400681306660528e-15\n"
     ]
    }
   ],
   "source": [
    "print(LA.norm(serial_Result - parallel_Result))"
   ]
  },
  {
   "cell_type": "code",
   "execution_count": null,
   "id": "0f996658",
   "metadata": {},
   "outputs": [],
   "source": []
  },
  {
   "cell_type": "code",
   "execution_count": null,
   "id": "35eacfd4",
   "metadata": {},
   "outputs": [],
   "source": []
  },
  {
   "cell_type": "code",
   "execution_count": null,
   "id": "5ab0a01f",
   "metadata": {},
   "outputs": [],
   "source": []
  },
  {
   "cell_type": "code",
   "execution_count": 14,
   "id": "507e3fb2",
   "metadata": {},
   "outputs": [],
   "source": [
    "#stop_engine()"
   ]
  }
 ],
 "metadata": {
  "kernelspec": {
   "display_name": "Python 3 (ipykernel)",
   "language": "python",
   "name": "python3"
  },
  "language_info": {
   "codemirror_mode": {
    "name": "ipython",
    "version": 3
   },
   "file_extension": ".py",
   "mimetype": "text/x-python",
   "name": "python",
   "nbconvert_exporter": "python",
   "pygments_lexer": "ipython3",
   "version": "3.8.10"
  }
 },
 "nbformat": 4,
 "nbformat_minor": 5
}
